import cv2
import numpy
#read first image
cap1 = cv2.imread(“1.jfif”)
cap1.shape
(722, 690, 3)
#display first image
cv2.imshow(“Task4.2”,cap1)
cv2.waitKey()
cv2.destroyAllWindows()
#crop first image
crop1 = cap1[75:225,275:400]
#read second image
cap2 = cv2.imread(“2.jfif”)
#display second image
cv2.imshow(“Task4.2.1”,cap2)
cv2.waitKey()
cv2.destroyAllWindows()
#crop second image
crop2 = cap2[50:200,175:300]
#replace cropped images
cap1[75:225,275:400] = cap2[50:200,175:300]
#display swapped image
cv2.imshow(“Task4.2.1”,cap1)
cv2.waitKey()
cv2.destroyAllWindows()
